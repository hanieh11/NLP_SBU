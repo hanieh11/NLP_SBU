{
  "nbformat": 4,
  "nbformat_minor": 0,
  "metadata": {
    "colab": {
      "name": "Persian_Sentiment_Analysis_project.ipynb",
      "provenance": [],
      "collapsed_sections": []
    },
    "kernelspec": {
      "name": "python3",
      "display_name": "Python 3"
    },
    "accelerator": "GPU"
  },
  "cells": [
    {
      "cell_type": "markdown",
      "metadata": {
        "id": "ugFdw0p8P8fX"
      },
      "source": [
        "#About This Project\n",
        "### In this project, your task is to build and train a model to recognize opinions expressed in a sentence. This is an LSTM multi-class (positive, negative, neutral) classification problem.\n",
        "\n",
        "##Sentiment Analysis\n",
        "what is Sentiment Analysis?\n",
        "the process of computationally identifying and categorizing opinions expressed in a piece of text, especially in order to determine whether the writer's attitude towards a particular topic, product, etc. is positive, negative, or neutral.\n"
      ]
    },
    {
      "cell_type": "markdown",
      "metadata": {
        "id": "jLjyY9vmRkyq"
      },
      "source": [
        "#SentiPers Corpus\n",
        "\n",
        "https://arxiv.org/ftp/arxiv/papers/1801/1801.07737.pdf\n",
        "\n",
        "SentiPers is a sentiment corpus for Persian. This corpus contains more than 26,000 sentences of users’ opinions from digital product domain.  The data used in construction of SentiPers is extracted from a website named Digikala.\n",
        "\n",
        "This is an open-source corpus by University of Guilan.\n",
        "\n",
        "https://github.com/Text-Mining/Persian-Sentiment-Resources/blob/master/SentiPersV1.0.rar\n",
        "\n",
        "https://www.peykaregan.ir/dataset/%D9%BE%DB%8C%DA%A9%D8%B1%D9%87-%D9%81%D8%A7%D8%B1%D8%B3%DB%8C-%D8%AA%D8%AD%D9%84%DB%8C%D9%84-%D8%A7%D8%AD%D8%B3%D8%A7%D8%B3-%D8%B3%D9%86%D8%AA%DB%8C%E2%80%8C%D9%BE%D8%B1%D8%B3\n",
        "\n",
        "\n",
        "###We use a part of this corpus that contains about 9,000 sentences with 3 labels: positive, negative and neutral.\n",
        "\n",
        "\n"
      ]
    },
    {
      "cell_type": "markdown",
      "metadata": {
        "id": "5VAv4x6YWhH-"
      },
      "source": [
        "#Implementation"
      ]
    },
    {
      "cell_type": "markdown",
      "metadata": {
        "id": "hstqA-QJWla6"
      },
      "source": [
        "## Importing libraries"
      ]
    },
    {
      "cell_type": "code",
      "metadata": {
        "id": "MjOWDZnCFy6D"
      },
      "source": [
        "import numpy as np \n",
        "import pandas as pd \n",
        "\n",
        "from sklearn.feature_extraction.text import CountVectorizer\n",
        "from keras.preprocessing.text import Tokenizer\n",
        "from keras.preprocessing.sequence import pad_sequences\n",
        "from keras.models import Sequential\n",
        "from keras.layers import Dense, Embedding, LSTM, SpatialDropout1D, Input, Bidirectional, GlobalMaxPool1D, Dropout, Activation, GRU, SimpleRNN\n",
        "from keras.layers import Conv1D\n",
        "\n",
        "from keras.models import Model\n",
        "from sklearn.model_selection import train_test_split\n",
        "from keras.utils.np_utils import to_categorical\n",
        "import re\n",
        "import gc\n",
        "import matplotlib.pyplot as plt\n",
        "%matplotlib inline"
      ],
      "execution_count": 143,
      "outputs": []
    },
    {
      "cell_type": "markdown",
      "metadata": {
        "id": "4zjfo8e2XGDi"
      },
      "source": [
        "# New Section"
      ]
    },
    {
      "cell_type": "markdown",
      "metadata": {
        "id": "-taA6hJFWrpN"
      },
      "source": [
        "##Mounting your Google Drive files in Google Colab"
      ]
    },
    {
      "cell_type": "code",
      "metadata": {
        "id": "qEqsBD6dGEU5",
        "colab": {
          "base_uri": "https://localhost:8080/"
        },
        "outputId": "181e08dc-b2e2-4ab1-b70a-cd37af2faa55"
      },
      "source": [
        "from google.colab import drive\n",
        "drive.mount('/MyDrive') "
      ],
      "execution_count": 44,
      "outputs": [
        {
          "output_type": "stream",
          "text": [
            "Mounted at /MyDrive\n"
          ],
          "name": "stdout"
        }
      ]
    },
    {
      "cell_type": "markdown",
      "metadata": {
        "id": "FTy6tpMLW668"
      },
      "source": [
        "### Read  train data file"
      ]
    },
    {
      "cell_type": "code",
      "metadata": {
        "id": "UGv7-SbOF-ub"
      },
      "source": [
        "data = pd.read_csv('/MyDrive/MyDrive/SentimentProj/sentipers_sentiment.csv')\n",
        "\n",
        "data = data[['text','sentiment']]"
      ],
      "execution_count": 60,
      "outputs": []
    },
    {
      "cell_type": "code",
      "metadata": {
        "id": "j0k46t62IN0e",
        "colab": {
          "base_uri": "https://localhost:8080/"
        },
        "outputId": "f1ba4362-3c1a-4a54-9ec7-5aacdcfeeed5"
      },
      "source": [
        "print('Positive:',data[ data['sentiment'] == 'Positive'].size)\n",
        "print('Negative:',data[ data['sentiment'] == 'Negative'].size)\n",
        "print('Neutral:',data[ data['sentiment'] == 'Neutral'].size)\n"
      ],
      "execution_count": 61,
      "outputs": [
        {
          "output_type": "stream",
          "text": [
            "Positive: 8882\n",
            "Negative: 1902\n",
            "Neutral: 6870\n"
          ],
          "name": "stdout"
        }
      ]
    },
    {
      "cell_type": "markdown",
      "metadata": {
        "id": "o8JGnqmrXHXu"
      },
      "source": [
        "###Tokenization - We need to break down the sentence into unique words. For eg, \"I love cats and love dogs\" will become [\"I\",\"love\",\"cats\",\"and\",\"dogs\"]\n",
        "\n",
        "###Indexing - We put the words in a dictionary-like structure and give them an index each For eg, {1:\"I\",2:\"love\",3:\"cats\",4:\"and\",5:\"dogs\"}\n",
        "\n",
        "###Index Representation- We could represent the sequence of words in the texts in the form of index"
      ]
    },
    {
      "cell_type": "code",
      "metadata": {
        "id": "ig5YnB-pIuDw"
      },
      "source": [
        "max_fatures = 70000\n",
        "tokenizer = Tokenizer(num_words=max_fatures, split=' ')\n",
        "tokenizer.fit_on_texts(data['text'].values)\n",
        "X = tokenizer.texts_to_sequences(data['text'].values)\n",
        "y = np.array(pd.get_dummies(data['sentiment']))"
      ],
      "execution_count": 94,
      "outputs": []
    },
    {
      "cell_type": "markdown",
      "metadata": {
        "id": "v1rQqZPXXO4a"
      },
      "source": [
        "## How do you know what is the best \"maxlen\" to set?\n",
        "One of the ways to go about it is to see the distribution of the number of words in sentences."
      ]
    },
    {
      "cell_type": "code",
      "metadata": {
        "id": "dnrzfUMWJgaU",
        "colab": {
          "base_uri": "https://localhost:8080/",
          "height": 263
        },
        "outputId": "e996e174-5dfc-4178-cf7f-8168e12425da"
      },
      "source": [
        "totalNumWords = [len(one_comment) for one_comment in X]\n",
        "plt.hist(totalNumWords,bins = np.arange(0,100,10))\n",
        "plt.show()"
      ],
      "execution_count": 95,
      "outputs": [
        {
          "output_type": "display_data",
          "data": {
            "image/png": "[encoded data removed]",
            "text/plain": [
              "<Figure size 432x288 with 1 Axes>"
            ]
          },
          "metadata": {
            "tags": [],
            "needs_background": "light"
          }
        }
      ]
    },
    {
      "cell_type": "code",
      "metadata": {
        "id": "05_wwz_WJjKM"
      },
      "source": [
        "maxlen = 80\n",
        "X = pad_sequences(X, maxlen)\n",
        "# https://drive.google.com/file/d/1-9dP3crGeqT9C0GrDfjBlCZDtlioSx3B/view?usp=sharing"
      ],
      "execution_count": 102,
      "outputs": []
    },
    {
      "cell_type": "markdown",
      "metadata": {
        "id": "Ow07iEjWXWpX"
      },
      "source": [
        "##  load our embeddings model into a dictionary "
      ]
    },
    {
      "cell_type": "code",
      "metadata": {
        "id": "qIIqtFqWKX8z"
      },
      "source": [
        "\n",
        "def loadEmbeddingMatrix(typeToLoad):\n",
        "        #load different embedding file from Kaggle depending on which embedding \n",
        "        #matrix we are going to experiment with\n",
        "    if(typeToLoad==\"glove\"):\n",
        "        EMBEDDING_FILE='/MyDrive/MyDrive/SentimentProj/vectors.txt'\n",
        "        embed_size = 300\n",
        "    \n",
        "    if(typeToLoad==\"glove\" or typeToLoad==\"fasttext\" ):\n",
        "        embeddings_index = dict()\n",
        "            #Transfer the embedding weights into a dictionary by iterating through every line of the file.\n",
        "        with open(EMBEDDING_FILE,'r', encoding='utf8')as f:\n",
        "            for line in f:\n",
        "                try:\n",
        "                    values = line.split()\n",
        "\n",
        "                    if len(values)==301:\n",
        "                        word = values[0]    \n",
        "                        coefs = np.asarray(values[1:], dtype='float32')\n",
        "                        embeddings_index[word] = coefs\n",
        "                    elif len(values)==302:\n",
        "          #print(len(value))\n",
        "                        word = values[0]+'\\u200c'+values[1]   \n",
        "                        coefs = np.asarray(values[2:], dtype='float32')\n",
        "                        embeddings_index[word] = coefs\n",
        "                    elif len(values)==303:\n",
        "                        word = values[0]+'\\u200c'+values[1]+'\\u200c'+values[2]  \n",
        "                        coefs = np.asarray(values[3:], dtype='float32')\n",
        "                        embeddings_index[word] = coefs\n",
        "                except Exception as inst:\n",
        "                        print(inst)\n",
        "\n",
        "            \n",
        "    gc.collect()\n",
        "        #We get the mean and standard deviation of the embedding weights so that we could maintain the \n",
        "        #same statistics for the rest of our own random generated weights. \n",
        "    all_embs = np.stack(list(embeddings_index.values()))\n",
        "    emb_mean,emb_std = all_embs.mean(), all_embs.std()\n",
        "        \n",
        "    nb_words = len(tokenizer.word_index) + 1\n",
        "        #We are going to set the embedding size to the pretrained dimension as we are replicating it.\n",
        "        #the size will be Number of Words in Vocab X Embedding Size\n",
        "    embedding_matrix = np.random.normal(emb_mean, emb_std, (nb_words, embed_size))\n",
        "    gc.collect()\n",
        "\n",
        "        #With the newly created embedding matrix, we'll fill it up with the words that we have in both \n",
        "        #our own dictionary and loaded pretrained embedding. \n",
        "    embeddedCount = 0\n",
        "    embedding_matrix[0] = 0\n",
        "    for word, i in tokenizer.word_index.items():\n",
        "            #then we see if this word is in glove's dictionary, if yes, get the corresponding weights\n",
        "            embedding_vector = embeddings_index.get(word)\n",
        "            #and store inside the embedding matrix that we will train later on.\n",
        "            if embedding_vector is not None: \n",
        "                embedding_matrix[i] = embedding_vector\n",
        "                embeddedCount+=1\n",
        "    print('total embedded:',embeddedCount,'common words')\n",
        "        \n",
        "    del(embeddings_index)\n",
        "    gc.collect()\n",
        "        \n",
        "        #finally, return the embedding matrix\n",
        "    return embedding_matrix"
      ],
      "execution_count": 109,
      "outputs": []
    },
    {
      "cell_type": "markdown",
      "metadata": {
        "id": "pmR2PgzVXZmj"
      },
      "source": [
        "#training steps\n",
        "\n",
        "##Design your Architecture for Sentiment Analysis task. You can use embedding, LSTM, GRU and CNN layers in your architecture.\n"
      ]
    },
    {
      "cell_type": "markdown",
      "metadata": {
        "id": "T_o9COgWcC06"
      },
      "source": [
        "##building  your models"
      ]
    },
    {
      "cell_type": "markdown",
      "metadata": {
        "id": "7i-rGq7u2xKR"
      },
      "source": [
        "**LSTM1:** Glove-60-maxpool-dp-Dense(50)-dp-dense"
      ]
    },
    {
      "cell_type": "code",
      "metadata": {
        "id": "6zb1vhSIKiv0",
        "colab": {
          "base_uri": "https://localhost:8080/"
        },
        "outputId": "5e83ff8a-3056-4bf2-a220-130e27d7c6ad"
      },
      "source": [
        "embedding_matrix = loadEmbeddingMatrix('glove')\n",
        "\n",
        "inp = Input(shape=(maxlen, ))\n",
        "x = Embedding(len(tokenizer.word_index)+1, embedding_matrix.shape[1],weights=[embedding_matrix], mask_zero=True,trainable=False)(inp)\n",
        "x = Bidirectional(LSTM(60, return_sequences=True,name='lstm_layer',dropout=0.1,recurrent_dropout=0.1))(x)\n",
        "x = GlobalMaxPool1D()(x)\n",
        "x = Dropout(0.1)(x)\n",
        "x = Dense(50, activation=\"relu\")(x)\n",
        "x = Dropout(0.1)(x)\n",
        "x = Dense(3, activation=\"sigmoid\")(x)\n",
        "model = Model(inputs=inp, outputs=x)\n",
        "model.compile(loss='binary_crossentropy',\n",
        "                  optimizer='adam',\n",
        "                  metrics=['accuracy'])\n",
        "\n",
        "print(model.summary())"
      ],
      "execution_count": 110,
      "outputs": [
        {
          "output_type": "stream",
          "text": [
            "total embedded: 5554 common words\n",
            "WARNING:tensorflow:Layer lstm_layer will not use cuDNN kernel since it doesn't meet the cuDNN kernel criteria. It will use generic GPU kernel as fallback when running on GPU\n",
            "WARNING:tensorflow:Layer lstm_layer will not use cuDNN kernel since it doesn't meet the cuDNN kernel criteria. It will use generic GPU kernel as fallback when running on GPU\n",
            "WARNING:tensorflow:Layer lstm_layer will not use cuDNN kernel since it doesn't meet the cuDNN kernel criteria. It will use generic GPU kernel as fallback when running on GPU\n",
            "Model: \"model_5\"\n",
            "_________________________________________________________________\n",
            "Layer (type)                 Output Shape              Param #   \n",
            "=================================================================\n",
            "input_12 (InputLayer)        [(None, 80)]              0         \n",
            "_________________________________________________________________\n",
            "embedding_11 (Embedding)     (None, 80, 300)           3825600   \n",
            "_________________________________________________________________\n",
            "bidirectional_9 (Bidirection (None, 80, 120)           173280    \n",
            "_________________________________________________________________\n",
            "global_max_pooling1d_7 (Glob (None, 120)               0         \n",
            "_________________________________________________________________\n",
            "dropout_12 (Dropout)         (None, 120)               0         \n",
            "_________________________________________________________________\n",
            "dense_12 (Dense)             (None, 50)                6050      \n",
            "_________________________________________________________________\n",
            "dropout_13 (Dropout)         (None, 50)                0         \n",
            "_________________________________________________________________\n",
            "dense_13 (Dense)             (None, 3)                 153       \n",
            "=================================================================\n",
            "Total params: 4,005,083\n",
            "Trainable params: 179,483\n",
            "Non-trainable params: 3,825,600\n",
            "_________________________________________________________________\n",
            "None\n"
          ],
          "name": "stdout"
        }
      ]
    },
    {
      "cell_type": "markdown",
      "metadata": {
        "id": "sAtQOZxqcHr0"
      },
      "source": [
        "##Fit your models"
      ]
    },
    {
      "cell_type": "code",
      "metadata": {
        "colab": {
          "base_uri": "https://localhost:8080/"
        },
        "id": "9HcyYOP4_deM",
        "outputId": "731e12a5-2a2b-4e86-bfa0-83557ab656f5"
      },
      "source": [
        "print(np.size(X),np.size(y))"
      ],
      "execution_count": 111,
      "outputs": [
        {
          "output_type": "stream",
          "text": [
            "706160 26481\n"
          ],
          "name": "stdout"
        }
      ]
    },
    {
      "cell_type": "code",
      "metadata": {
        "id": "icczY_u6cJLk",
        "colab": {
          "base_uri": "https://localhost:8080/"
        },
        "outputId": "271c0bd9-1827-4edd-8288-a858279e7f72"
      },
      "source": [
        "batch_size = 64\n",
        "epochs = 20\n",
        "hist = model.fit(X,y, batch_size=batch_size, epochs=epochs, validation_split=0.2)"
      ],
      "execution_count": 112,
      "outputs": [
        {
          "output_type": "stream",
          "text": [
            "Epoch 1/20\n",
            "111/111 [==============================] - 74s 632ms/step - loss: 0.5954 - accuracy: 0.4853 - val_loss: 0.5192 - val_accuracy: 0.6291\n",
            "Epoch 2/20\n",
            "111/111 [==============================] - 69s 625ms/step - loss: 0.5113 - accuracy: 0.6266 - val_loss: 0.4853 - val_accuracy: 0.6489\n",
            "Epoch 3/20\n",
            "111/111 [==============================] - 70s 629ms/step - loss: 0.4639 - accuracy: 0.6663 - val_loss: 0.4795 - val_accuracy: 0.6484\n",
            "Epoch 4/20\n",
            "111/111 [==============================] - 70s 627ms/step - loss: 0.4167 - accuracy: 0.7092 - val_loss: 0.4739 - val_accuracy: 0.6438\n",
            "Epoch 5/20\n",
            "111/111 [==============================] - 70s 629ms/step - loss: 0.3845 - accuracy: 0.7302 - val_loss: 0.4682 - val_accuracy: 0.6648\n",
            "Epoch 6/20\n",
            "111/111 [==============================] - 70s 630ms/step - loss: 0.3497 - accuracy: 0.7602 - val_loss: 0.4661 - val_accuracy: 0.6580\n",
            "Epoch 7/20\n",
            "111/111 [==============================] - 70s 631ms/step - loss: 0.3373 - accuracy: 0.7759 - val_loss: 0.4714 - val_accuracy: 0.6631\n",
            "Epoch 8/20\n",
            "111/111 [==============================] - 70s 628ms/step - loss: 0.3000 - accuracy: 0.8096 - val_loss: 0.4715 - val_accuracy: 0.6642\n",
            "Epoch 9/20\n",
            "111/111 [==============================] - 70s 628ms/step - loss: 0.2855 - accuracy: 0.8221 - val_loss: 0.4743 - val_accuracy: 0.6750\n",
            "Epoch 10/20\n",
            "111/111 [==============================] - 70s 630ms/step - loss: 0.2567 - accuracy: 0.8493 - val_loss: 0.4944 - val_accuracy: 0.6653\n",
            "Epoch 11/20\n",
            "111/111 [==============================] - 70s 631ms/step - loss: 0.2353 - accuracy: 0.8597 - val_loss: 0.5134 - val_accuracy: 0.6529\n",
            "Epoch 12/20\n",
            "111/111 [==============================] - 70s 626ms/step - loss: 0.2256 - accuracy: 0.8699 - val_loss: 0.5512 - val_accuracy: 0.6642\n",
            "Epoch 13/20\n",
            "111/111 [==============================] - 69s 620ms/step - loss: 0.2033 - accuracy: 0.8785 - val_loss: 0.5713 - val_accuracy: 0.6518\n",
            "Epoch 14/20\n",
            "111/111 [==============================] - 69s 626ms/step - loss: 0.1925 - accuracy: 0.8848 - val_loss: 0.5436 - val_accuracy: 0.6653\n",
            "Epoch 15/20\n",
            "111/111 [==============================] - 69s 623ms/step - loss: 0.1722 - accuracy: 0.9041 - val_loss: 0.5824 - val_accuracy: 0.6625\n",
            "Epoch 16/20\n",
            "111/111 [==============================] - 70s 631ms/step - loss: 0.1570 - accuracy: 0.9182 - val_loss: 0.5836 - val_accuracy: 0.6653\n",
            "Epoch 17/20\n",
            "111/111 [==============================] - 70s 631ms/step - loss: 0.1538 - accuracy: 0.9193 - val_loss: 0.5967 - val_accuracy: 0.6631\n",
            "Epoch 18/20\n",
            "111/111 [==============================] - 69s 621ms/step - loss: 0.1439 - accuracy: 0.9211 - val_loss: 0.6343 - val_accuracy: 0.6676\n",
            "Epoch 19/20\n",
            "111/111 [==============================] - 69s 623ms/step - loss: 0.1347 - accuracy: 0.9226 - val_loss: 0.6497 - val_accuracy: 0.6778\n",
            "Epoch 20/20\n",
            "111/111 [==============================] - 69s 623ms/step - loss: 0.1259 - accuracy: 0.9317 - val_loss: 0.6734 - val_accuracy: 0.6665\n"
          ],
          "name": "stdout"
        }
      ]
    },
    {
      "cell_type": "code",
      "metadata": {
        "id": "eG22-KrxG-hI"
      },
      "source": [
        "h1 = hist"
      ],
      "execution_count": 113,
      "outputs": []
    },
    {
      "cell_type": "markdown",
      "metadata": {
        "id": "OQ_jsMazIfLv"
      },
      "source": [
        "**LSTM2**: Glove-LSTM(60)-dp(0.3)-LSTM(32)-maxpool-dp(0.4)-Dense(50)-dp-dense"
      ]
    },
    {
      "cell_type": "code",
      "metadata": {
        "colab": {
          "base_uri": "https://localhost:8080/"
        },
        "id": "6Lc20jAzJL74",
        "outputId": "bedab340-5251-4266-ba68-9553cc031507"
      },
      "source": [
        "embedding_matrix = loadEmbeddingMatrix('glove')\n",
        "\n",
        "inp = Input(shape=(maxlen, ))\n",
        "x = Embedding(len(tokenizer.word_index)+1, embedding_matrix.shape[1],weights=[embedding_matrix], mask_zero=True,trainable=False)(inp)\n",
        "x = Bidirectional(LSTM(60, return_sequences=True,name='lstm_layer',dropout=0.1,recurrent_dropout=0.1))(x)\n",
        "x = Dropout(0.3)(x)\n",
        "x = Bidirectional(LSTM(32, return_sequences=True,dropout=0.1,recurrent_dropout=0.1))(x)\n",
        "x = GlobalMaxPool1D()(x)\n",
        "x = Dropout(0.4)(x)\n",
        "x = Dense(50, activation=\"relu\")(x)\n",
        "x = Dropout(0.1)(x)\n",
        "x = Dense(3, activation=\"sigmoid\")(x)\n",
        "model = Model(inputs=inp, outputs=x)\n",
        "model.compile(loss='binary_crossentropy',\n",
        "                  optimizer='adam',\n",
        "                  metrics=['accuracy'])\n",
        "\n",
        "print(model.summary())"
      ],
      "execution_count": 116,
      "outputs": [
        {
          "output_type": "stream",
          "text": [
            "total embedded: 5554 common words\n",
            "WARNING:tensorflow:Layer lstm_layer will not use cuDNN kernel since it doesn't meet the cuDNN kernel criteria. It will use generic GPU kernel as fallback when running on GPU\n",
            "WARNING:tensorflow:Layer lstm_layer will not use cuDNN kernel since it doesn't meet the cuDNN kernel criteria. It will use generic GPU kernel as fallback when running on GPU\n",
            "WARNING:tensorflow:Layer lstm_layer will not use cuDNN kernel since it doesn't meet the cuDNN kernel criteria. It will use generic GPU kernel as fallback when running on GPU\n",
            "WARNING:tensorflow:Layer lstm_1 will not use cuDNN kernel since it doesn't meet the cuDNN kernel criteria. It will use generic GPU kernel as fallback when running on GPU\n",
            "WARNING:tensorflow:Layer lstm_1 will not use cuDNN kernel since it doesn't meet the cuDNN kernel criteria. It will use generic GPU kernel as fallback when running on GPU\n",
            "WARNING:tensorflow:Layer lstm_1 will not use cuDNN kernel since it doesn't meet the cuDNN kernel criteria. It will use generic GPU kernel as fallback when running on GPU\n",
            "Model: \"model_7\"\n",
            "_________________________________________________________________\n",
            "Layer (type)                 Output Shape              Param #   \n",
            "=================================================================\n",
            "input_14 (InputLayer)        [(None, 80)]              0         \n",
            "_________________________________________________________________\n",
            "embedding_13 (Embedding)     (None, 80, 300)           3825600   \n",
            "_________________________________________________________________\n",
            "bidirectional_12 (Bidirectio (None, 80, 120)           173280    \n",
            "_________________________________________________________________\n",
            "dropout_17 (Dropout)         (None, 80, 120)           0         \n",
            "_________________________________________________________________\n",
            "bidirectional_13 (Bidirectio (None, 80, 64)            39168     \n",
            "_________________________________________________________________\n",
            "global_max_pooling1d_9 (Glob (None, 64)                0         \n",
            "_________________________________________________________________\n",
            "dropout_18 (Dropout)         (None, 64)                0         \n",
            "_________________________________________________________________\n",
            "dense_16 (Dense)             (None, 50)                3250      \n",
            "_________________________________________________________________\n",
            "dropout_19 (Dropout)         (None, 50)                0         \n",
            "_________________________________________________________________\n",
            "dense_17 (Dense)             (None, 3)                 153       \n",
            "=================================================================\n",
            "Total params: 4,041,451\n",
            "Trainable params: 215,851\n",
            "Non-trainable params: 3,825,600\n",
            "_________________________________________________________________\n",
            "None\n"
          ],
          "name": "stdout"
        }
      ]
    },
    {
      "cell_type": "code",
      "metadata": {
        "colab": {
          "base_uri": "https://localhost:8080/"
        },
        "id": "yuxFAGoCJtiq",
        "outputId": "dc300e1e-f921-4f9e-bfde-1b6240c89ff4"
      },
      "source": [
        "batch_size = 64\n",
        "epochs = 10\n",
        "hist = model.fit(X,y, batch_size=batch_size, epochs=epochs, validation_split=0.2)"
      ],
      "execution_count": 118,
      "outputs": [
        {
          "output_type": "stream",
          "text": [
            "Epoch 1/10\n",
            "111/111 [==============================] - 139s 1s/step - loss: 0.4821 - accuracy: 0.6508 - val_loss: 0.4858 - val_accuracy: 0.6467\n",
            "Epoch 2/10\n",
            "111/111 [==============================] - 139s 1s/step - loss: 0.4505 - accuracy: 0.6738 - val_loss: 0.4773 - val_accuracy: 0.6518\n",
            "Epoch 3/10\n",
            "111/111 [==============================] - 140s 1s/step - loss: 0.4356 - accuracy: 0.6877 - val_loss: 0.4639 - val_accuracy: 0.6546\n",
            "Epoch 4/10\n",
            "111/111 [==============================] - 139s 1s/step - loss: 0.4098 - accuracy: 0.7085 - val_loss: 0.4945 - val_accuracy: 0.6116\n",
            "Epoch 5/10\n",
            "111/111 [==============================] - 140s 1s/step - loss: 0.3896 - accuracy: 0.7241 - val_loss: 0.4646 - val_accuracy: 0.6653\n",
            "Epoch 6/10\n",
            "111/111 [==============================] - 139s 1s/step - loss: 0.3730 - accuracy: 0.7332 - val_loss: 0.4955 - val_accuracy: 0.6178\n",
            "Epoch 7/10\n",
            "111/111 [==============================] - 139s 1s/step - loss: 0.3527 - accuracy: 0.7577 - val_loss: 0.4887 - val_accuracy: 0.6569\n",
            "Epoch 8/10\n",
            "111/111 [==============================] - 140s 1s/step - loss: 0.3366 - accuracy: 0.7701 - val_loss: 0.4937 - val_accuracy: 0.6444\n",
            "Epoch 9/10\n",
            "111/111 [==============================] - 140s 1s/step - loss: 0.3196 - accuracy: 0.7854 - val_loss: 0.4942 - val_accuracy: 0.6586\n",
            "Epoch 10/10\n",
            "111/111 [==============================] - 140s 1s/step - loss: 0.3020 - accuracy: 0.7971 - val_loss: 0.5254 - val_accuracy: 0.6189\n"
          ],
          "name": "stdout"
        }
      ]
    },
    {
      "cell_type": "code",
      "metadata": {
        "id": "qlroh1mDJwnC"
      },
      "source": [
        "h2 = hist"
      ],
      "execution_count": 120,
      "outputs": []
    },
    {
      "cell_type": "markdown",
      "metadata": {
        "id": "uoVdOPlpLEhu"
      },
      "source": [
        "**Rnn1**: Glove-RNN(50)-maxpool-dp(0.2)-Dense(50)-dp(0.1)-Dense(50)-dp(0.1)-dense"
      ]
    },
    {
      "cell_type": "code",
      "metadata": {
        "colab": {
          "base_uri": "https://localhost:8080/"
        },
        "id": "LtL1uiWVKHIC",
        "outputId": "b9ee413d-1108-49c7-d9d3-4ce0c00f76bb"
      },
      "source": [
        "embedding_matrix = loadEmbeddingMatrix('glove')\n",
        "\n",
        "inp = Input(shape=(maxlen, ))\n",
        "x = Embedding(len(tokenizer.word_index)+1, embedding_matrix.shape[1],weights=[embedding_matrix], mask_zero=True,trainable=False)(inp)\n",
        "x = Bidirectional(SimpleRNN(50, return_sequences=True,name='RNN_layer',dropout=0.1,recurrent_dropout=0.1))(x)\n",
        "x = GlobalMaxPool1D()(x)\n",
        "x = Dropout(0.2)(x)\n",
        "x = Dense(50, activation=\"relu\")(x)\n",
        "x = Dropout(0.1)(x)\n",
        "x = Dense(50, activation=\"relu\")(x)\n",
        "x = Dropout(0.1)(x)\n",
        "x = Dense(3, activation=\"sigmoid\")(x)\n",
        "model = Model(inputs=inp, outputs=x)\n",
        "model.compile(loss='binary_crossentropy',\n",
        "                  optimizer='adam',\n",
        "                  metrics=['accuracy'])\n",
        "\n",
        "print(model.summary())"
      ],
      "execution_count": 121,
      "outputs": [
        {
          "output_type": "stream",
          "text": [
            "total embedded: 5554 common words\n",
            "Model: \"model_8\"\n",
            "_________________________________________________________________\n",
            "Layer (type)                 Output Shape              Param #   \n",
            "=================================================================\n",
            "input_15 (InputLayer)        [(None, 80)]              0         \n",
            "_________________________________________________________________\n",
            "embedding_14 (Embedding)     (None, 80, 300)           3825600   \n",
            "_________________________________________________________________\n",
            "bidirectional_14 (Bidirectio (None, 80, 100)           35100     \n",
            "_________________________________________________________________\n",
            "global_max_pooling1d_10 (Glo (None, 100)               0         \n",
            "_________________________________________________________________\n",
            "dropout_20 (Dropout)         (None, 100)               0         \n",
            "_________________________________________________________________\n",
            "dense_18 (Dense)             (None, 50)                5050      \n",
            "_________________________________________________________________\n",
            "dropout_21 (Dropout)         (None, 50)                0         \n",
            "_________________________________________________________________\n",
            "dense_19 (Dense)             (None, 50)                2550      \n",
            "_________________________________________________________________\n",
            "dropout_22 (Dropout)         (None, 50)                0         \n",
            "_________________________________________________________________\n",
            "dense_20 (Dense)             (None, 3)                 153       \n",
            "=================================================================\n",
            "Total params: 3,868,453\n",
            "Trainable params: 42,853\n",
            "Non-trainable params: 3,825,600\n",
            "_________________________________________________________________\n",
            "None\n"
          ],
          "name": "stdout"
        }
      ]
    },
    {
      "cell_type": "code",
      "metadata": {
        "colab": {
          "base_uri": "https://localhost:8080/"
        },
        "id": "DnZL-0xPRnmt",
        "outputId": "012ce0da-7f47-4772-ceb0-e949d2eb7572"
      },
      "source": [
        "batch_size = 64\n",
        "epochs = 10\n",
        "hist = model.fit(X,y, batch_size=batch_size, epochs=epochs, validation_split=0.2)"
      ],
      "execution_count": 122,
      "outputs": [
        {
          "output_type": "stream",
          "text": [
            "Epoch 1/10\n",
            "111/111 [==============================] - 27s 224ms/step - loss: 0.6092 - accuracy: 0.4579 - val_loss: 0.5613 - val_accuracy: 0.5736\n",
            "Epoch 2/10\n",
            "111/111 [==============================] - 25s 228ms/step - loss: 0.5665 - accuracy: 0.5249 - val_loss: 0.5260 - val_accuracy: 0.6116\n",
            "Epoch 3/10\n",
            "111/111 [==============================] - 25s 224ms/step - loss: 0.5320 - accuracy: 0.5991 - val_loss: 0.5303 - val_accuracy: 0.6127\n",
            "Epoch 4/10\n",
            "111/111 [==============================] - 25s 223ms/step - loss: 0.5162 - accuracy: 0.6252 - val_loss: 0.5029 - val_accuracy: 0.6404\n",
            "Epoch 5/10\n",
            "111/111 [==============================] - 25s 221ms/step - loss: 0.4979 - accuracy: 0.6416 - val_loss: 0.5252 - val_accuracy: 0.6240\n",
            "Epoch 6/10\n",
            "111/111 [==============================] - 25s 223ms/step - loss: 0.4847 - accuracy: 0.6529 - val_loss: 0.4881 - val_accuracy: 0.6642\n",
            "Epoch 7/10\n",
            "111/111 [==============================] - 24s 220ms/step - loss: 0.4569 - accuracy: 0.6766 - val_loss: 0.5088 - val_accuracy: 0.6359\n",
            "Epoch 8/10\n",
            "111/111 [==============================] - 25s 223ms/step - loss: 0.4571 - accuracy: 0.6785 - val_loss: 0.4929 - val_accuracy: 0.6472\n",
            "Epoch 9/10\n",
            "111/111 [==============================] - 25s 222ms/step - loss: 0.4385 - accuracy: 0.6925 - val_loss: 0.4904 - val_accuracy: 0.6580\n",
            "Epoch 10/10\n",
            "111/111 [==============================] - 25s 223ms/step - loss: 0.4209 - accuracy: 0.7050 - val_loss: 0.4883 - val_accuracy: 0.6557\n"
          ],
          "name": "stdout"
        }
      ]
    },
    {
      "cell_type": "code",
      "metadata": {
        "id": "4Zl9_8yiLs5p"
      },
      "source": [
        "h3 = hist"
      ],
      "execution_count": 123,
      "outputs": []
    },
    {
      "cell_type": "markdown",
      "metadata": {
        "id": "oAgpQ7iVR9yc"
      },
      "source": [
        "**Rnn2**: Glove-RNN(50)-RNN(20)-maxpool-dp(0.1)-Dense(50)-dp(0.1)-dense"
      ]
    },
    {
      "cell_type": "code",
      "metadata": {
        "colab": {
          "base_uri": "https://localhost:8080/"
        },
        "id": "lTtTKXGkSXLh",
        "outputId": "e26357bd-880c-4536-e868-8457939ce722"
      },
      "source": [
        "embedding_matrix = loadEmbeddingMatrix('glove')\n",
        "\n",
        "inp = Input(shape=(maxlen, ))\n",
        "x = Embedding(len(tokenizer.word_index)+1, embedding_matrix.shape[1],weights=[embedding_matrix], mask_zero=True,trainable=False)(inp)\n",
        "x = Bidirectional(SimpleRNN(50, return_sequences=True,name='RNN_layer',dropout=0.1,recurrent_dropout=0.1))(x)\n",
        "x = SimpleRNN(20, return_sequences=True,name='RNN_layer',dropout=0.1,recurrent_dropout=0.1)(x)\n",
        "x = GlobalMaxPool1D()(x)\n",
        "x = Dropout(0.1)(x)\n",
        "x = Dense(50, activation=\"relu\")(x)\n",
        "x = Dropout(0.1)(x)\n",
        "x = Dense(3, activation=\"sigmoid\")(x)\n",
        "model = Model(inputs=inp, outputs=x)\n",
        "model.compile(loss='binary_crossentropy',\n",
        "                  optimizer='adam',\n",
        "                  metrics=['accuracy'])\n",
        "\n",
        "print(model.summary())"
      ],
      "execution_count": 127,
      "outputs": [
        {
          "output_type": "stream",
          "text": [
            "total embedded: 5554 common words\n",
            "Model: \"model_10\"\n",
            "_________________________________________________________________\n",
            "Layer (type)                 Output Shape              Param #   \n",
            "=================================================================\n",
            "input_19 (InputLayer)        [(None, 80)]              0         \n",
            "_________________________________________________________________\n",
            "embedding_18 (Embedding)     (None, 80, 300)           3825600   \n",
            "_________________________________________________________________\n",
            "bidirectional_19 (Bidirectio (None, 80, 100)           35100     \n",
            "_________________________________________________________________\n",
            "RNN_layer (SimpleRNN)        (None, 80, 20)            2420      \n",
            "_________________________________________________________________\n",
            "global_max_pooling1d_13 (Glo (None, 20)                0         \n",
            "_________________________________________________________________\n",
            "dropout_28 (Dropout)         (None, 20)                0         \n",
            "_________________________________________________________________\n",
            "dense_23 (Dense)             (None, 50)                1050      \n",
            "_________________________________________________________________\n",
            "dropout_29 (Dropout)         (None, 50)                0         \n",
            "_________________________________________________________________\n",
            "dense_24 (Dense)             (None, 3)                 153       \n",
            "=================================================================\n",
            "Total params: 3,864,323\n",
            "Trainable params: 38,723\n",
            "Non-trainable params: 3,825,600\n",
            "_________________________________________________________________\n",
            "None\n"
          ],
          "name": "stdout"
        }
      ]
    },
    {
      "cell_type": "code",
      "metadata": {
        "colab": {
          "base_uri": "https://localhost:8080/"
        },
        "id": "cGY5SywSSwWD",
        "outputId": "8cc3a34e-3ca4-4ec8-f0ff-6bb41946f4a5"
      },
      "source": [
        "batch_size = 64\n",
        "epochs = 10\n",
        "hist = model.fit(X,y, batch_size=batch_size, epochs=epochs, validation_split=0.2)"
      ],
      "execution_count": 128,
      "outputs": [
        {
          "output_type": "stream",
          "text": [
            "Epoch 1/10\n",
            "111/111 [==============================] - 40s 331ms/step - loss: 0.5868 - accuracy: 0.4913 - val_loss: 0.5698 - val_accuracy: 0.5176\n",
            "Epoch 2/10\n",
            "111/111 [==============================] - 37s 329ms/step - loss: 0.5571 - accuracy: 0.5447 - val_loss: 0.5296 - val_accuracy: 0.5985\n",
            "Epoch 3/10\n",
            "111/111 [==============================] - 37s 330ms/step - loss: 0.5247 - accuracy: 0.6114 - val_loss: 0.5290 - val_accuracy: 0.5866\n",
            "Epoch 4/10\n",
            "111/111 [==============================] - 37s 333ms/step - loss: 0.4992 - accuracy: 0.6473 - val_loss: 0.5225 - val_accuracy: 0.6036\n",
            "Epoch 5/10\n",
            "111/111 [==============================] - 37s 332ms/step - loss: 0.4854 - accuracy: 0.6599 - val_loss: 0.5115 - val_accuracy: 0.6206\n",
            "Epoch 6/10\n",
            "111/111 [==============================] - 37s 332ms/step - loss: 0.4756 - accuracy: 0.6738 - val_loss: 0.5044 - val_accuracy: 0.6234\n",
            "Epoch 7/10\n",
            "111/111 [==============================] - 37s 333ms/step - loss: 0.4760 - accuracy: 0.6665 - val_loss: 0.5305 - val_accuracy: 0.6036\n",
            "Epoch 8/10\n",
            "111/111 [==============================] - 37s 331ms/step - loss: 0.4526 - accuracy: 0.6892 - val_loss: 0.5210 - val_accuracy: 0.6019\n",
            "Epoch 9/10\n",
            "111/111 [==============================] - 37s 332ms/step - loss: 0.4344 - accuracy: 0.7064 - val_loss: 0.5026 - val_accuracy: 0.6240\n",
            "Epoch 10/10\n",
            "111/111 [==============================] - 37s 332ms/step - loss: 0.4419 - accuracy: 0.6953 - val_loss: 0.5127 - val_accuracy: 0.6200\n"
          ],
          "name": "stdout"
        }
      ]
    },
    {
      "cell_type": "code",
      "metadata": {
        "id": "e6jeMFhBTsGP"
      },
      "source": [
        "h4 = hist"
      ],
      "execution_count": 129,
      "outputs": []
    },
    {
      "cell_type": "markdown",
      "metadata": {
        "id": "FTTila4mUaKQ"
      },
      "source": [
        "**GRU1** glove-gru(50)-maxpool-dp(0.2)-dense(50)-dp(0.1)-dense(50)-dp(0.1)-dense"
      ]
    },
    {
      "cell_type": "code",
      "metadata": {
        "colab": {
          "base_uri": "https://localhost:8080/"
        },
        "id": "k0HMKmBcUa7q",
        "outputId": "dcb09b12-4466-43df-b6c5-a26afd480c74"
      },
      "source": [
        "embedding_matrix = loadEmbeddingMatrix('glove')\n",
        "\n",
        "inp = Input(shape=(maxlen, ))\n",
        "x = Embedding(len(tokenizer.word_index)+1, embedding_matrix.shape[1],weights=[embedding_matrix], mask_zero=True,trainable=False)(inp)\n",
        "x = Bidirectional(GRU(50, return_sequences=True,name='lstm_layer',dropout=0.1,recurrent_dropout=0.1))(x)\n",
        "x = GlobalMaxPool1D()(x)\n",
        "x = Dropout(0.2)(x)\n",
        "x = Dense(50, activation=\"relu\")(x)\n",
        "x = Dropout(0.1)(x)\n",
        "x = Dense(50, activation=\"relu\")(x)\n",
        "x = Dropout(0.1)(x)\n",
        "x = Dense(3, activation=\"sigmoid\")(x)\n",
        "model = Model(inputs=inp, outputs=x)\n",
        "model.compile(loss='binary_crossentropy',\n",
        "                  optimizer='adam',\n",
        "                  metrics=['accuracy'])\n",
        "\n",
        "print(model.summary())"
      ],
      "execution_count": 130,
      "outputs": [
        {
          "output_type": "stream",
          "text": [
            "total embedded: 5554 common words\n",
            "WARNING:tensorflow:Layer lstm_layer will not use cuDNN kernel since it doesn't meet the cuDNN kernel criteria. It will use generic GPU kernel as fallback when running on GPU\n",
            "WARNING:tensorflow:Layer lstm_layer will not use cuDNN kernel since it doesn't meet the cuDNN kernel criteria. It will use generic GPU kernel as fallback when running on GPU\n",
            "WARNING:tensorflow:Layer lstm_layer will not use cuDNN kernel since it doesn't meet the cuDNN kernel criteria. It will use generic GPU kernel as fallback when running on GPU\n",
            "Model: \"model_11\"\n",
            "_________________________________________________________________\n",
            "Layer (type)                 Output Shape              Param #   \n",
            "=================================================================\n",
            "input_20 (InputLayer)        [(None, 80)]              0         \n",
            "_________________________________________________________________\n",
            "embedding_19 (Embedding)     (None, 80, 300)           3825600   \n",
            "_________________________________________________________________\n",
            "bidirectional_20 (Bidirectio (None, 80, 100)           105600    \n",
            "_________________________________________________________________\n",
            "global_max_pooling1d_14 (Glo (None, 100)               0         \n",
            "_________________________________________________________________\n",
            "dropout_30 (Dropout)         (None, 100)               0         \n",
            "_________________________________________________________________\n",
            "dense_25 (Dense)             (None, 50)                5050      \n",
            "_________________________________________________________________\n",
            "dropout_31 (Dropout)         (None, 50)                0         \n",
            "_________________________________________________________________\n",
            "dense_26 (Dense)             (None, 50)                2550      \n",
            "_________________________________________________________________\n",
            "dropout_32 (Dropout)         (None, 50)                0         \n",
            "_________________________________________________________________\n",
            "dense_27 (Dense)             (None, 3)                 153       \n",
            "=================================================================\n",
            "Total params: 3,938,953\n",
            "Trainable params: 113,353\n",
            "Non-trainable params: 3,825,600\n",
            "_________________________________________________________________\n",
            "None\n"
          ],
          "name": "stdout"
        }
      ]
    },
    {
      "cell_type": "code",
      "metadata": {
        "colab": {
          "base_uri": "https://localhost:8080/"
        },
        "id": "HMeiGSDwViG3",
        "outputId": "13b4705c-7c86-45a2-f0fd-5fe0ace6a517"
      },
      "source": [
        "batch_size = 64\n",
        "epochs = 10\n",
        "hist = model.fit(X,y, batch_size=batch_size, epochs=epochs, validation_split=0.2)"
      ],
      "execution_count": 131,
      "outputs": [
        {
          "output_type": "stream",
          "text": [
            "Epoch 1/10\n",
            "111/111 [==============================] - 67s 572ms/step - loss: 0.6027 - accuracy: 0.4970 - val_loss: 0.5399 - val_accuracy: 0.6161\n",
            "Epoch 2/10\n",
            "111/111 [==============================] - 63s 568ms/step - loss: 0.5264 - accuracy: 0.5989 - val_loss: 0.4866 - val_accuracy: 0.6546\n",
            "Epoch 3/10\n",
            "111/111 [==============================] - 63s 568ms/step - loss: 0.4685 - accuracy: 0.6642 - val_loss: 0.4560 - val_accuracy: 0.6750\n",
            "Epoch 4/10\n",
            "111/111 [==============================] - 63s 567ms/step - loss: 0.4289 - accuracy: 0.6952 - val_loss: 0.4463 - val_accuracy: 0.6818\n",
            "Epoch 5/10\n",
            "111/111 [==============================] - 64s 574ms/step - loss: 0.3952 - accuracy: 0.7250 - val_loss: 0.4512 - val_accuracy: 0.6727\n",
            "Epoch 6/10\n",
            "111/111 [==============================] - 63s 569ms/step - loss: 0.3809 - accuracy: 0.7382 - val_loss: 0.4365 - val_accuracy: 0.6886\n",
            "Epoch 7/10\n",
            "111/111 [==============================] - 63s 565ms/step - loss: 0.3566 - accuracy: 0.7609 - val_loss: 0.4539 - val_accuracy: 0.6761\n",
            "Epoch 8/10\n",
            "111/111 [==============================] - 63s 566ms/step - loss: 0.3298 - accuracy: 0.7868 - val_loss: 0.4560 - val_accuracy: 0.6687\n",
            "Epoch 9/10\n",
            "111/111 [==============================] - 63s 564ms/step - loss: 0.3138 - accuracy: 0.7940 - val_loss: 0.4765 - val_accuracy: 0.6738\n",
            "Epoch 10/10\n",
            "111/111 [==============================] - 63s 567ms/step - loss: 0.2963 - accuracy: 0.8095 - val_loss: 0.4619 - val_accuracy: 0.6829\n"
          ],
          "name": "stdout"
        }
      ]
    },
    {
      "cell_type": "code",
      "metadata": {
        "id": "O-A4SFq9Vj8C"
      },
      "source": [
        "h5 = hist"
      ],
      "execution_count": 132,
      "outputs": []
    },
    {
      "cell_type": "markdown",
      "metadata": {
        "id": "6w5KL7d2Vlw_"
      },
      "source": [
        "**GRU2** glove-gru(50)-gru(32)-maxpool-dense(50)-dp(0.1)-dense"
      ]
    },
    {
      "cell_type": "code",
      "metadata": {
        "colab": {
          "base_uri": "https://localhost:8080/"
        },
        "id": "rxdnb42dV5FO",
        "outputId": "82dddacd-0a7a-4e7a-944b-b83da116087b"
      },
      "source": [
        "embedding_matrix = loadEmbeddingMatrix('glove')\n",
        "\n",
        "inp = Input(shape=(maxlen, ))\n",
        "x = Embedding(len(tokenizer.word_index)+1, embedding_matrix.shape[1],weights=[embedding_matrix], mask_zero=True,trainable=False)(inp)\n",
        "x = Bidirectional(GRU(50, return_sequences=True,name='lstm_layer',dropout=0.1,recurrent_dropout=0.1))(x)\n",
        "x = GRU(32, return_sequences=True,name='lstm_layer',dropout=0.1,recurrent_dropout=0.1)(x)\n",
        "x = GlobalMaxPool1D()(x)\n",
        "x = Dense(50, activation=\"relu\")(x)\n",
        "x = Dropout(0.1)(x)\n",
        "x = Dense(3, activation=\"sigmoid\")(x)\n",
        "model = Model(inputs=inp, outputs=x)\n",
        "model.compile(loss='binary_crossentropy',\n",
        "                  optimizer='adam',\n",
        "                  metrics=['accuracy'])\n",
        "\n",
        "print(model.summary())"
      ],
      "execution_count": 138,
      "outputs": [
        {
          "output_type": "stream",
          "text": [
            "total embedded: 5554 common words\n",
            "WARNING:tensorflow:Layer lstm_layer will not use cuDNN kernel since it doesn't meet the cuDNN kernel criteria. It will use generic GPU kernel as fallback when running on GPU\n",
            "WARNING:tensorflow:Layer lstm_layer will not use cuDNN kernel since it doesn't meet the cuDNN kernel criteria. It will use generic GPU kernel as fallback when running on GPU\n",
            "WARNING:tensorflow:Layer lstm_layer will not use cuDNN kernel since it doesn't meet the cuDNN kernel criteria. It will use generic GPU kernel as fallback when running on GPU\n",
            "WARNING:tensorflow:Layer lstm_layer will not use cuDNN kernel since it doesn't meet the cuDNN kernel criteria. It will use generic GPU kernel as fallback when running on GPU\n",
            "Model: \"model_14\"\n",
            "_________________________________________________________________\n",
            "Layer (type)                 Output Shape              Param #   \n",
            "=================================================================\n",
            "input_25 (InputLayer)        [(None, 80)]              0         \n",
            "_________________________________________________________________\n",
            "embedding_24 (Embedding)     (None, 80, 300)           3825600   \n",
            "_________________________________________________________________\n",
            "bidirectional_25 (Bidirectio (None, 80, 100)           105600    \n",
            "_________________________________________________________________\n",
            "lstm_layer (GRU)             (None, 80, 32)            12864     \n",
            "_________________________________________________________________\n",
            "global_max_pooling1d_18 (Glo (None, 32)                0         \n",
            "_________________________________________________________________\n",
            "dense_32 (Dense)             (None, 50)                1650      \n",
            "_________________________________________________________________\n",
            "dropout_36 (Dropout)         (None, 50)                0         \n",
            "_________________________________________________________________\n",
            "dense_33 (Dense)             (None, 3)                 153       \n",
            "=================================================================\n",
            "Total params: 3,945,867\n",
            "Trainable params: 120,267\n",
            "Non-trainable params: 3,825,600\n",
            "_________________________________________________________________\n",
            "None\n"
          ],
          "name": "stdout"
        }
      ]
    },
    {
      "cell_type": "code",
      "metadata": {
        "colab": {
          "base_uri": "https://localhost:8080/"
        },
        "id": "kogLCIFmWILh",
        "outputId": "54ee10ad-a9aa-4b5d-d295-4da3a2b3d051"
      },
      "source": [
        "batch_size = 64\n",
        "epochs = 10\n",
        "hist = model.fit(X,y, batch_size=batch_size, epochs=epochs, validation_split=0.2)"
      ],
      "execution_count": 139,
      "outputs": [
        {
          "output_type": "stream",
          "text": [
            "Epoch 1/10\n",
            "111/111 [==============================] - 98s 834ms/step - loss: 0.5957 - accuracy: 0.4975 - val_loss: 0.5322 - val_accuracy: 0.6200\n",
            "Epoch 2/10\n",
            "111/111 [==============================] - 92s 825ms/step - loss: 0.5194 - accuracy: 0.6227 - val_loss: 0.4825 - val_accuracy: 0.6472\n",
            "Epoch 3/10\n",
            "111/111 [==============================] - 92s 833ms/step - loss: 0.4626 - accuracy: 0.6769 - val_loss: 0.4668 - val_accuracy: 0.6602\n",
            "Epoch 4/10\n",
            "111/111 [==============================] - 92s 830ms/step - loss: 0.4213 - accuracy: 0.7022 - val_loss: 0.4616 - val_accuracy: 0.6591\n",
            "Epoch 5/10\n",
            "111/111 [==============================] - 92s 826ms/step - loss: 0.3902 - accuracy: 0.7329 - val_loss: 0.4487 - val_accuracy: 0.6806\n",
            "Epoch 6/10\n",
            "111/111 [==============================] - 92s 829ms/step - loss: 0.3693 - accuracy: 0.7477 - val_loss: 0.4749 - val_accuracy: 0.6648\n",
            "Epoch 7/10\n",
            "111/111 [==============================] - 92s 829ms/step - loss: 0.3519 - accuracy: 0.7697 - val_loss: 0.4497 - val_accuracy: 0.6665\n",
            "Epoch 8/10\n",
            "111/111 [==============================] - 92s 827ms/step - loss: 0.3225 - accuracy: 0.7851 - val_loss: 0.4603 - val_accuracy: 0.6744\n",
            "Epoch 9/10\n",
            "111/111 [==============================] - 92s 829ms/step - loss: 0.2970 - accuracy: 0.8080 - val_loss: 0.4901 - val_accuracy: 0.6580\n",
            "Epoch 10/10\n",
            "111/111 [==============================] - 91s 824ms/step - loss: 0.2712 - accuracy: 0.8332 - val_loss: 0.4874 - val_accuracy: 0.6614\n"
          ],
          "name": "stdout"
        }
      ]
    },
    {
      "cell_type": "code",
      "metadata": {
        "id": "TwsZ4oP8WJBe"
      },
      "source": [
        "h6 = hist"
      ],
      "execution_count": 140,
      "outputs": []
    },
    {
      "cell_type": "markdown",
      "metadata": {
        "id": "pKliCx0deoZ4"
      },
      "source": [
        "LSTM 3: cnn(64,7)-dp-cnn(32,7)-dp-GRU(60)-maxpool- dense"
      ]
    },
    {
      "cell_type": "code",
      "metadata": {
        "colab": {
          "base_uri": "https://localhost:8080/"
        },
        "id": "uV6WV0ibao0G",
        "outputId": "260452dc-2c1f-4992-b997-a41a1219c559"
      },
      "source": [
        "inp = Input(shape=(maxlen, ))\n",
        "embed_size = 300\n",
        "x = Embedding(max_fatures, embed_size)(inp)\n",
        "x = Conv1D(64, 7, activation='relu')(x)\n",
        "x = Dropout(0.1)(x)\n",
        "x = Conv1D(32, 7, activation='relu')(x)\n",
        "x = Dropout(0.1)(x)\n",
        "x = Bidirectional(GRU(60, return_sequences=True,name='lstm_layer',dropout=0.1,recurrent_dropout=0.1))(x)\n",
        "x = GlobalMaxPool1D()(x)\n",
        "x = Dense(3, activation=\"sigmoid\")(x)\n",
        "model = Model(inputs=inp, outputs=x)\n",
        "model.compile(loss='binary_crossentropy',\n",
        "                  optimizer='adam',\n",
        "                  metrics=['accuracy'])\n",
        "\n",
        "print(model.summary())"
      ],
      "execution_count": 149,
      "outputs": [
        {
          "output_type": "stream",
          "text": [
            "WARNING:tensorflow:Layer lstm_layer will not use cuDNN kernel since it doesn't meet the cuDNN kernel criteria. It will use generic GPU kernel as fallback when running on GPU\n",
            "WARNING:tensorflow:Layer lstm_layer will not use cuDNN kernel since it doesn't meet the cuDNN kernel criteria. It will use generic GPU kernel as fallback when running on GPU\n",
            "WARNING:tensorflow:Layer lstm_layer will not use cuDNN kernel since it doesn't meet the cuDNN kernel criteria. It will use generic GPU kernel as fallback when running on GPU\n",
            "Model: \"model_16\"\n",
            "_________________________________________________________________\n",
            "Layer (type)                 Output Shape              Param #   \n",
            "=================================================================\n",
            "input_33 (InputLayer)        [(None, 80)]              0         \n",
            "_________________________________________________________________\n",
            "embedding_31 (Embedding)     (None, 80, 300)           21000000  \n",
            "_________________________________________________________________\n",
            "conv1d_9 (Conv1D)            (None, 74, 64)            134464    \n",
            "_________________________________________________________________\n",
            "dropout_42 (Dropout)         (None, 74, 64)            0         \n",
            "_________________________________________________________________\n",
            "conv1d_10 (Conv1D)           (None, 68, 32)            14368     \n",
            "_________________________________________________________________\n",
            "dropout_43 (Dropout)         (None, 68, 32)            0         \n",
            "_________________________________________________________________\n",
            "bidirectional_28 (Bidirectio (None, 68, 120)           33840     \n",
            "_________________________________________________________________\n",
            "global_max_pooling1d_25 (Glo (None, 120)               0         \n",
            "_________________________________________________________________\n",
            "dense_35 (Dense)             (None, 3)                 363       \n",
            "=================================================================\n",
            "Total params: 21,183,035\n",
            "Trainable params: 21,183,035\n",
            "Non-trainable params: 0\n",
            "_________________________________________________________________\n",
            "None\n"
          ],
          "name": "stdout"
        }
      ]
    },
    {
      "cell_type": "code",
      "metadata": {
        "colab": {
          "base_uri": "https://localhost:8080/"
        },
        "id": "fqMwyOLDeMyg",
        "outputId": "993c12c8-ace5-4007-f060-b13b7d8da3e3"
      },
      "source": [
        "batch_size = 64\n",
        "epochs = 10\n",
        "hist = model.fit(X,y, batch_size=batch_size, epochs=epochs, validation_split=0.2)"
      ],
      "execution_count": 150,
      "outputs": [
        {
          "output_type": "stream",
          "text": [
            "Epoch 1/10\n",
            "111/111 [==============================] - 82s 654ms/step - loss: 0.5816 - accuracy: 0.5102 - val_loss: 0.4627 - val_accuracy: 0.6710\n",
            "Epoch 2/10\n",
            "111/111 [==============================] - 72s 646ms/step - loss: 0.3737 - accuracy: 0.7728 - val_loss: 0.4588 - val_accuracy: 0.6733\n",
            "Epoch 3/10\n",
            "111/111 [==============================] - 72s 647ms/step - loss: 0.2361 - accuracy: 0.8669 - val_loss: 0.5001 - val_accuracy: 0.6823\n",
            "Epoch 4/10\n",
            "111/111 [==============================] - 71s 643ms/step - loss: 0.1379 - accuracy: 0.9341 - val_loss: 0.5930 - val_accuracy: 0.6484\n",
            "Epoch 5/10\n",
            "111/111 [==============================] - 72s 646ms/step - loss: 0.0894 - accuracy: 0.9583 - val_loss: 0.6686 - val_accuracy: 0.6653\n",
            "Epoch 6/10\n",
            "111/111 [==============================] - 71s 644ms/step - loss: 0.0620 - accuracy: 0.9729 - val_loss: 0.7054 - val_accuracy: 0.6704\n",
            "Epoch 7/10\n",
            "111/111 [==============================] - 72s 646ms/step - loss: 0.0510 - accuracy: 0.9765 - val_loss: 0.7352 - val_accuracy: 0.6648\n",
            "Epoch 8/10\n",
            "111/111 [==============================] - 72s 648ms/step - loss: 0.0425 - accuracy: 0.9797 - val_loss: 0.8280 - val_accuracy: 0.6625\n",
            "Epoch 9/10\n",
            "111/111 [==============================] - 71s 643ms/step - loss: 0.0292 - accuracy: 0.9870 - val_loss: 0.8244 - val_accuracy: 0.6682\n",
            "Epoch 10/10\n",
            "111/111 [==============================] - 72s 648ms/step - loss: 0.0222 - accuracy: 0.9874 - val_loss: 0.8893 - val_accuracy: 0.6569\n"
          ],
          "name": "stdout"
        }
      ]
    },
    {
      "cell_type": "code",
      "metadata": {
        "id": "bFWee_hyeMni"
      },
      "source": [
        "h7 = hist"
      ],
      "execution_count": 151,
      "outputs": []
    },
    {
      "cell_type": "markdown",
      "metadata": {
        "id": "C1QeOcc_cKA0"
      },
      "source": [
        "##training/validation loss plots"
      ]
    },
    {
      "cell_type": "code",
      "metadata": {
        "id": "5Mm_CpgJcP6u",
        "colab": {
          "base_uri": "https://localhost:8080/",
          "height": 877
        },
        "outputId": "ba6327cd-481a-401c-f273-6fc844f0092c"
      },
      "source": [
        "epochRange = np.arange(1,11,1)\n",
        "\n",
        "f, ((ax2,ax4), (ax1,  ax6), (ax12,  ax10)) = plt.subplots(3,2, sharex='col', sharey='row',figsize=(15, 15))\n",
        "\n",
        "plt.title('Training Vs Validation loss for all embeddings')\n",
        "\n",
        "\n",
        "ax2.plot(epochRange,h2.history['loss'])\n",
        "ax2.plot(epochRange,h2.history['val_loss'])\n",
        "ax2.set_title('LSTM2')\n",
        "ax2.set_ylim(0.03, 1)\n",
        "\n",
        "\n",
        "ax4.plot(epochRange,h3.history['loss'])\n",
        "ax4.plot(epochRange,h3.history['val_loss'])\n",
        "ax4.set_title('RNN1')\n",
        "ax4.set_ylim(0.03, 1)\n",
        "\n",
        "ax1.plot(epochRange,h4.history['loss'])\n",
        "ax1.plot(epochRange,h4.history['val_loss'])\n",
        "ax1.set_title('RNN2')\n",
        "ax1.set_ylim(0.03, 1)\n",
        "\n",
        "ax6.plot(epochRange,h5.history['loss'])\n",
        "ax6.plot(epochRange,h5.history['val_loss'])\n",
        "ax6.set_title('GRU1')\n",
        "ax6.set_ylim(0.03, 1)\n",
        "\n",
        "\n",
        "ax10.plot(epochRange,h6.history['loss'])\n",
        "ax10.plot(epochRange,h6.history['val_loss'])\n",
        "ax10.set_title('GRU2')\n",
        "ax10.set_ylim(0.03, 1)\n",
        "\n",
        "\n",
        "ax12.plot(epochRange,h7.history['loss'])\n",
        "ax12.plot(epochRange,h7.history['val_loss'])\n",
        "ax12.set_title('LSTM3')\n",
        "ax12.set_ylim(0.03, 1)\n",
        "\n",
        "plt.show()"
      ],
      "execution_count": 157,
      "outputs": [
        {
          "output_type": "display_data",
          "data": {
            "image/png": "[encoded data removed]",
            "text/plain": [
              "<Figure size 1080x1080 with 6 Axes>"
            ]
          },
          "metadata": {
            "tags": [],
            "needs_background": "light"
          }
        }
      ]
    },
    {
      "cell_type": "markdown",
      "metadata": {
        "id": "4wiOsygfT1Nz"
      },
      "source": [
        ""
      ]
    },
    {
      "cell_type": "markdown",
      "metadata": {
        "id": "VUvt1rSLcQk2"
      },
      "source": [
        "## Fill the table for all architectures"
      ]
    },
    {
      "cell_type": "markdown",
      "metadata": {
        "id": "3P0DkEuIcbTe"
      },
      "source": [
        "<table>\n",
        "<thead>\n",
        "<tr>\n",
        "<th></th>\n",
        "  <th align=\"center\"><code>        </code></th>\n",
        "<th align=\"center\"><code>loss</code></th>\n",
        "<th align=\"center\"><code>        </code></th>\n",
        "<th align=\"center\"><code>accuracy</code></th>\n",
        "<th align=\"center\"><code>        </code></th>\n",
        "<th align=\"center\"><code>val_loss</code></th>\n",
        "<th align=\"center\"><code>        </code></th>\n",
        "<th align=\"center\"><code>val_accuracy</code></th>\n",
        "<th align=\"center\"><code>        </code></th>\n",
        "</tr>\n",
        "</thead>\n",
        "<tbody>\n",
        "<tr>\n",
        "<td>LSTM1</td>\n",
        " <td align=\"center\"> </td>\n",
        "<td align=\"center\">0.2567 </td>\n",
        "<td align=\"center\"> </td>\n",
        "<td align=\"center\">0.8493</td>\n",
        "<td align=\"center\"> </td>\n",
        "  <td align=\"center\">0.4944 </td>\n",
        "<td align=\"center\"> </td>\n",
        "<td align=\"center\">0.6653</td>\n",
        "<td align=\"center\"> </td>\n",
        "</tr>\n",
        "<tr>\n",
        "<td>LSTM2</td>\n",
        "  <td align=\"center\"> </td>\n",
        "<td align=\"center\"> 0.3020</td>\n",
        "<td align=\"center\"> </td>\n",
        "<td align=\"center\"> 0.7971</td>\n",
        "<td align=\"center\"></td>\n",
        "  <td align=\"center\"> 0.5254</td>\n",
        "<td align=\"center\"> </td>\n",
        "<td align=\"center\">0.6189</td>\n",
        "<td align=\"center\"> </td>\n",
        "</tr>\n",
        "<tr>\n",
        "<td>Simple RNN1</td>\n",
        "  <td align=\"center\"> </td>\n",
        "<td align=\"center\">0.4209 </td>\n",
        "<td align=\"center\"> </td>\n",
        "<td align=\"center\">0.7050</td>\n",
        "<td align=\"center\"> </td>\n",
        " <td align=\"center\"> 0.4883</td>\n",
        "<td align=\"center\"> </td>\n",
        "<td align=\"center\">0.6557</td>\n",
        "<td align=\"center\"> </td>\n",
        "</tr>\n",
        "<tr>\n",
        "<td>Simple RNN 2</td>\n",
        "  <td align=\"center\"> </td>\n",
        "<td align=\"center\">0.4419 </td>\n",
        "<td align=\"center\"> </td>\n",
        "<td align=\"center\">0.6953 </td>\n",
        "<td align=\"center\"></td>\n",
        " <td align=\"center\"> 0.5127</td>\n",
        "<td align=\"center\"> </td>\n",
        "<td align=\"center\">0.6200</td>\n",
        "<td align=\"center\"> </td>\n",
        "</tr>\n",
        "<tr>\n",
        "<td>GRU1</td>\n",
        "  <td align=\"center\"> </td>\n",
        "<td align=\"center\">0.2963 </td>\n",
        "<td align=\"center\"> </td>\n",
        "<td align=\"center\"> 0.8095</td>\n",
        "<td align=\"center\"></td>\n",
        " <td align=\"center\">0.4619 </td>\n",
        "<td align=\"center\"> </td>\n",
        "<td align=\"center\">0.6829</td>\n",
        "<td align=\"center\"> </td>\n",
        "</tr>\n",
        "<tr>\n",
        "<td>GRU2</td>\n",
        "  <td align=\"center\"> </td>\n",
        "<td align=\"center\"> 0.2712</td>\n",
        "<td align=\"center\"> </td>\n",
        "<td align=\"center\"> 0.8332</td>\n",
        "<td align=\"center\"></td>\n",
        " <td align=\"center\"> 0.4874</td>\n",
        "<td align=\"center\"> </td>\n",
        "<td align=\"center\">0.6614</td>\n",
        "<td align=\"center\"> </td>\n",
        "</tr>\n",
        "<tr>\n",
        "<td>LSTM3</td>\n",
        "  <td align=\"center\"> </td>\n",
        "<td align=\"center\"> 0.0222</td>\n",
        "<td align=\"center\"> </td>\n",
        "<td align=\"center\"> 0.9874</td>\n",
        "<td align=\"center\"></td>\n",
        " <td align=\"center\"> 0.8893</td>\n",
        "<td align=\"center\"> </td>\n",
        "<td align=\"center\">0.6569</td>\n",
        "<td align=\"center\"> </td>\n",
        "</tr>\n",
        "<tr>\n",
        "\n",
        "</tbody>\n",
        "</table>"
      ]
    }
  ]
}